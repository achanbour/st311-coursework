{
 "cells": [
  {
   "cell_type": "markdown",
   "id": "a3daa9b2",
   "metadata": {},
   "source": [
    "# ST311 Homework 1 (Coding part)"
   ]
  },
  {
   "cell_type": "markdown",
   "id": "aa2b9564",
   "metadata": {},
   "source": [
    "Candidate number: 33349"
   ]
  },
  {
   "cell_type": "markdown",
   "id": "c6595805",
   "metadata": {},
   "source": [
    "# Week 2\n",
    "\n",
    "## Q1 Ndarray\n",
    "1. Generate vector $X = (0,2,4,6,\\dots,22)$ and reshape it to a $3$-dimensional tensor `Y` with shape $(3,2,2).$ Print `Y` out. \n",
    "1. From the output, we see that `Y` has $3$ channels with each channel as a $2 \\times 2$ matrix. Calculate three channel-sums and print the result out. \n",
    "1. Divide `Y` by the channel-sums with **broadcasting.**"
   ]
  },
  {
   "cell_type": "code",
   "execution_count": 6,
   "id": "a929c56f",
   "metadata": {},
   "outputs": [
    {
     "name": "stdout",
     "output_type": "stream",
     "text": [
      "Tensor Y: \n",
      " tensor([[[ 0,  2],\n",
      "         [ 4,  6]],\n",
      "\n",
      "        [[ 8, 10],\n",
      "         [12, 14]],\n",
      "\n",
      "        [[16, 18],\n",
      "         [20, 22]]])\n",
      "Sum over channel 1: \n",
      " tensor([[24, 30],\n",
      "        [36, 42]])\n",
      "Sum over channel 2: \n",
      " tensor([[ 4,  8],\n",
      "        [20, 24],\n",
      "        [36, 40]])\n",
      "Sum over channel 3: \n",
      " tensor([[ 2, 10],\n",
      "        [18, 26],\n",
      "        [34, 42]])\n",
      "Y divided by sum over channel 1: \n",
      " tensor([[[0.0000, 0.0667],\n",
      "         [0.1111, 0.1429]],\n",
      "\n",
      "        [[0.3333, 0.3333],\n",
      "         [0.3333, 0.3333]],\n",
      "\n",
      "        [[0.6667, 0.6000],\n",
      "         [0.5556, 0.5238]]])\n",
      "Y divided by sum over channel 2: \n",
      " tensor([[[0.0000, 0.2500],\n",
      "         [0.2000, 0.2500],\n",
      "         [0.2222, 0.2500]],\n",
      "\n",
      "        [[3.0000, 1.7500],\n",
      "         [0.8000, 0.7500],\n",
      "         [0.5556, 0.5500]]])\n",
      "Y divided by sum over channel 3: \n",
      " tensor([[[0.0000, 0.2000],\n",
      "         [0.2222, 0.2308],\n",
      "         [0.2353, 0.2381]],\n",
      "\n",
      "        [[6.0000, 1.4000],\n",
      "         [0.8889, 0.6923],\n",
      "         [0.5882, 0.5238]]])\n"
     ]
    }
   ],
   "source": [
    "import torch\n",
    "\n",
    "#1\n",
    "X = torch.arange(0, 24, 2)\n",
    "Y = X.reshape(3, 2, 2)\n",
    "print(\"Tensor Y: \\n {}\".format(Y))\n",
    "\n",
    "#2\n",
    "channel_1 = Y.sum(axis=0)\n",
    "print(\"Sum over channel 1: \\n {}\".format(channel_1))\n",
    "channel_2 = Y.sum(axis=1)\n",
    "print(\"Sum over channel 2: \\n {}\".format(channel_2))\n",
    "channel_3 = Y.sum(axis=2)\n",
    "print(\"Sum over channel 3: \\n {}\".format(channel_3))\n",
    "\n",
    "#3\n",
    "print(\"Y divided by sum over channel 1: \\n {}\".format(Y/channel_1))\n",
    "Y = Y.reshape(2, 3, 2)\n",
    "print(\"Y divided by sum over channel 2: \\n {}\".format(Y/channel_2))\n",
    "print(\"Y divided by sum over channel 3: \\n {}\".format(Y/channel_3))\n"
   ]
  },
  {
   "cell_type": "markdown",
   "id": "78c710dc",
   "metadata": {},
   "source": [
    "## Q2 Linear Algebra\n",
    "1. Generate tensor $ M $ of shape (2, 3, 4) whose elements are sampled from the stardard normal distribution. What is the output of `len(M)`?\n",
    "1. Denote the first and second channel of $ M $  by $ M_1 $(`M1`) and $ M_2 $(`M2`), respectively. Check the shape of both `M1` and `M2`, and calculate $ M_1 \\times M_2^\\top $. Print all the results out. \n",
    "1. For a tensor $ M $ of arbitrary shape, does `len(M)` always correspond to the length of a certain axis of `M`? What is that axis?\n"
   ]
  },
  {
   "cell_type": "code",
   "execution_count": 7,
   "id": "cd767dc3",
   "metadata": {},
   "outputs": [
    {
     "name": "stdout",
     "output_type": "stream",
     "text": [
      " M tensor: \n",
      " tensor([[[-1.2580,  0.6884, -1.0656, -2.1571],\n",
      "         [ 0.8339,  0.7428,  0.2656,  0.2225],\n",
      "         [ 1.0772,  0.0749, -1.1554, -0.4113]],\n",
      "\n",
      "        [[-0.7421, -0.0038, -0.2792,  2.1754],\n",
      "         [ 0.8281, -0.3554,  1.0809, -1.1114],\n",
      "         [ 0.9298,  0.4030, -0.6454,  1.2541]]])\n",
      "length of M: \n",
      " 2\n",
      "shape of M1: \n",
      " torch.Size([3, 4])\n",
      "shape of M2: ]\n",
      " torch.Size([3, 4])\n",
      "M1 x M2^t: \n",
      " tensor([[-3.4641, -0.0408, -2.9099],\n",
      "        [-0.2117,  0.4663,  1.1824],\n",
      "        [-1.3718,  0.0736,  1.2616]])\n"
     ]
    }
   ],
   "source": [
    "#1\n",
    "M = torch.normal(0, 1, size=(2, 3, 4))\n",
    "print(\" M tensor: \\n {}\".format(M))\n",
    "print(\"length of M: \\n {}\".format(len(M)))\n",
    "\n",
    "#2\n",
    "M1 = M[0]\n",
    "M2 = M[1]\n",
    "print(\"shape of M1: \\n {}\".format(M1.shape))\n",
    "print(\"shape of M2: ]\\n {}\".format(M1.shape))\n",
    "print(\"M1 x M2^t: \\n {}\".format(torch.matmul(M1, torch.transpose(M2, 0, 1))))"
   ]
  },
  {
   "cell_type": "markdown",
   "id": "54db97fa",
   "metadata": {},
   "source": [
    "For a tensor M of arbitrary shape, len(M) always returns the first number in the size definition of M: in the example above, we defined a 2-axis tensor where size=(2, 3, 4). This corresponds to the length of the 1 axis of M. See another example below for a 4-axis (or rank 4) tensor "
   ]
  },
  {
   "cell_type": "code",
   "execution_count": 8,
   "id": "96de97d6",
   "metadata": {},
   "outputs": [
    {
     "name": "stdout",
     "output_type": "stream",
     "text": [
      "3\n"
     ]
    }
   ],
   "source": [
    "rank_4_tensor = torch.zeros([3, 2, 4, 5])\n",
    "print(len(rank_4_tensor))"
   ]
  },
  {
   "cell_type": "markdown",
   "id": "6829afb1",
   "metadata": {},
   "source": [
    "## Q3 Pandas\n",
    "Run the following codes to import the raw data. Note that \"NaN\" entries are missing values. Please learn `dropna()` function and use it to drop the observations (rows) with any missing values inside from the raw data. Print out your cleaned data."
   ]
  },
  {
   "cell_type": "code",
   "execution_count": 9,
   "id": "85d83e2e",
   "metadata": {},
   "outputs": [
    {
     "name": "stdout",
     "output_type": "stream",
     "text": [
      "   NumRooms Alley   Price\n",
      "0       3.0  Pave  127500\n"
     ]
    }
   ],
   "source": [
    "import os\n",
    "\n",
    "os.makedirs(os.path.join('..', 'data'), exist_ok=True)\n",
    "data_file = os.path.join('..', 'data', 'house_tiny.csv')\n",
    "with open(data_file, 'w') as f:\n",
    "    f.write('NumRooms,Alley,Price\\n')  # Column names\n",
    "    f.write('3,Pave,127500\\n')  # Each row represents a data example\n",
    "    f.write('2,NA,106000\\n')\n",
    "    f.write('4,NA,178100\\n')\n",
    "    f.write('NA,NA,140000\\n')\n",
    "    \n",
    "import pandas as pd\n",
    "\n",
    "data = pd.read_csv(data_file)\n",
    "cleaned_data = data.dropna()\n",
    "print(cleaned_data)"
   ]
  },
  {
   "cell_type": "markdown",
   "id": "7c4a0a06",
   "metadata": {},
   "source": [
    "## Q4 Computing the Gradient of Python Control Flow\n",
    "Have a read of 'Computing the Gradient of Python Control Flow' of 'autograd(Automatic Differentiation)' section. Redesign an example of finding the gradient of the control flow. Run and analyze the result."
   ]
  },
  {
   "cell_type": "code",
   "execution_count": 10,
   "id": "0a7d15a1",
   "metadata": {},
   "outputs": [
    {
     "data": {
      "text/plain": [
       "tensor(True)"
      ]
     },
     "execution_count": 10,
     "metadata": {},
     "output_type": "execute_result"
    }
   ],
   "source": [
    "# implemention of the absolute value function using control flow (excluding the case a = 0)\n",
    "\n",
    "def f(a):\n",
    "    if a > 0:\n",
    "        return a\n",
    "    else:\n",
    "        return -a\n",
    "\n",
    "a = torch.randn(size=(), requires_grad=True)\n",
    "d = f(a)\n",
    "d.backward()\n",
    "\n",
    "a.grad == d / a"
   ]
  },
  {
   "cell_type": "code",
   "execution_count": 11,
   "id": "b58dbca4",
   "metadata": {},
   "outputs": [
    {
     "data": {
      "text/plain": [
       "tensor(True)"
      ]
     },
     "execution_count": 11,
     "metadata": {},
     "output_type": "execute_result"
    }
   ],
   "source": [
    "# implementing a quadratic function ka^2 using control flow\n",
    "\n",
    "def f(a):\n",
    "    b = a ** 2\n",
    "    while b.norm() < 1000:\n",
    "        b = 10 * b\n",
    "    if b.sum() > 0:\n",
    "        c = b\n",
    "    else:\n",
    "        c = 1000 * b\n",
    "    return c\n",
    "\n",
    "a = torch.randn(size=(), requires_grad=True)\n",
    "d = f(a)\n",
    "d.backward()\n",
    "\n",
    "a.grad == 2 * (d/a)"
   ]
  },
  {
   "cell_type": "markdown",
   "id": "fde22a60",
   "metadata": {},
   "source": [
    "# Week 3\n",
    "## Q1 Linear Regression\n",
    "In the example presented in Chapter 3.2 'Linear Regression\n",
    "Implementation from Scratch', we consider a linear model\n",
    "$$y_i = b +\\sum_{j=1}^d X_{ij} w_j + \\epsilon_i=\\mathbf{X}_i^{\\top}\\mathbf{\\beta}+ \\epsilon_i,~~i=1, \\dots, n,$$\n",
    "where $\\mathbf{X}_i=(X_{i1}, \\dots, X_{id},1)^\\top,$ ${\\mathbf{\\beta}} = (w_1, \\dots, w_d, b)^\\top$ and \n",
    "$\\epsilon_i$'s are i.i.d. $N(0, \\sigma^2).$ We generate the training data with  $n = 1000$, $d = 2$ and $\\sigma = 0.01.$ In the later training process, we define the $l_2$-norm based loss function and set `batch_size = 10`, `lr = 0.03`, `num_epochs = 3`. As we mentioned in class, all the above settings may influence the estimation $\\widehat{\\mathbf{\\beta}}=(\\hat w_1, \\dots, \\hat w_d, \\hat b)^\\top$ (or convergence) in different ways.\n",
    "\n",
    "Now you can try various simulation settings (e.g., different values of $d$ and $\\sigma$), loss function (based on $l_1$ norm, you could define your own function or use loss function from  `nn` module) and \n",
    "different values of the batch size, learning rate and number of epochs. \n",
    "\n",
    "Compare the results in terms of estimation accuracy of $\\mathbf{\\beta}$ and convergence speed, and summarize what you have discovered. This question is open-ended."
   ]
  },
  {
   "cell_type": "code",
   "execution_count": 12,
   "id": "240bd2cc",
   "metadata": {},
   "outputs": [],
   "source": [
    "from d2l import torch as d2l\n",
    "import random\n",
    "\n",
    "# step 1: generating the synthetic data\n",
    "\n",
    "def synthetic_data(w, b, num_examples, stdev): \n",
    "    X = torch.normal(0, 1, (num_examples, len(w)))\n",
    "    y = torch.matmul(X, w) + b\n",
    "    y += torch.normal(0, stdev, y.shape)\n",
    "    return X, y.reshape((-1, 1))\n",
    "\n",
    "true_w = torch.tensor([2, -3.4])\n",
    "true_b = 4.2\n",
    "features1, labels1 = synthetic_data(true_w, true_b, 1000, 0.01)\n",
    "features2, labels2 = synthetic_data(true_w, true_b, 1000, 0.5)\n",
    "\n",
    "# step 2: splitting the data into minibatches\n",
    "\n",
    "def data_iter(batch_size, features, labels):\n",
    "    num_examples = len(features)\n",
    "    indices = list(range(num_examples))\n",
    "    random.shuffle(indices)\n",
    "    for i in range(0, num_examples, batch_size):\n",
    "        batch_indices = torch.tensor(\n",
    "            indices[i: min(i + batch_size, num_examples)]) \n",
    "        yield features[batch_indices], labels[batch_indices]\n",
    "\n",
    "# step 3: defining the linear regression model and initialising parameter values\n",
    "\n",
    "def linreg(X, w, b):  #@save\n",
    "    return torch.matmul(X, w) + b\n",
    "\n",
    "def squared_loss(y_hat, y):\n",
    "    return (y_hat - y.reshape(y_hat.shape)) ** 2 / 2\n",
    "\n",
    "def l1_loss(y_hat, y):\n",
    "    return abs(y_hat - y.reshape(y_hat.shape))\n",
    "\n",
    "\n",
    "w = torch.normal(0, 0.01, size=(2,1), requires_grad=True)\n",
    "b = torch.zeros(1, requires_grad=True)\n",
    "\n",
    "# step 4: defining the optimisation algorithm: minibatch stochastic gradient descending\n",
    "\n",
    "def sgd(params, lr, batch_size): \n",
    "    with torch.no_grad():\n",
    "        for param in params:\n",
    "            param -= lr * param.grad / batch_size\n",
    "            param.grad.zero_()\n",
    "\n",
    "# step 5: training the linear model\n",
    "\n",
    "net = linreg\n",
    "\n",
    "def training_model(loss, num_epochs, lr, batch_size, features, labels):\n",
    "    for epoch in range(num_epochs):\n",
    "        for X, y in data_iter(batch_size, features, labels):\n",
    "            l = loss(net(X, w, b), y) \n",
    "            l.sum().backward()\n",
    "            sgd([w, b], lr, batch_size) \n",
    "        with torch.no_grad():\n",
    "            train_l = loss(net(features, w, b), labels)\n",
    "        print(f'epoch {epoch + 1}, loss {float(train_l.mean()):f}')"
   ]
  },
  {
   "cell_type": "markdown",
   "id": "d624739e",
   "metadata": {},
   "source": [
    "Now that we have defined our linear regression model as in Chapter 3.2, we will investigate how different parameter settings influence the training rate and estimation accuracy of our model. At every step, we will only change one parameter while holding others fixed to investigate its individual effect."
   ]
  },
  {
   "cell_type": "markdown",
   "id": "41640e6c",
   "metadata": {},
   "source": [
    "Influence of the choice of the loss, number of epochs, learning rate and batch size holding fixed the variance of the errors (standard deviation of 0.01) and the dimensionality of the problem (d = 2 features)."
   ]
  },
  {
   "cell_type": "code",
   "execution_count": 995,
   "id": "276eceb0",
   "metadata": {},
   "outputs": [
    {
     "name": "stdout",
     "output_type": "stream",
     "text": [
      "With a batch size of 5: \n",
      " \n",
      "epoch 1, loss 0.000048\n",
      "epoch 2, loss 0.000048\n",
      "epoch 3, loss 0.000048\n",
      "\n",
      "\n",
      "With a batch size of 50: \n",
      "\n",
      "epoch 1, loss 0.000049\n",
      "epoch 2, loss 0.000049\n",
      "epoch 3, loss 0.000049\n"
     ]
    }
   ],
   "source": [
    "# Lowering the batch size\n",
    "\n",
    "print(\"With a batch size of 5: \\n \")\n",
    "training_model(squared_loss, 3, 0.03, 5, features1, labels1)\n",
    "\n",
    "print(\"\\n\")\n",
    "\n",
    "# Increasing the batch size\n",
    "\n",
    "print(\"With a batch size of 50: \\n\")\n",
    "training_model(squared_loss, 3, 0.03, 2, features1, labels1)\n"
   ]
  },
  {
   "cell_type": "markdown",
   "id": "19fa3a9b",
   "metadata": {},
   "source": [
    "Findings: \n",
    "Lowering the batch size leads to a lower MSE on the training data, hence a higher accuracy of our estimates. The convergence rate appears to be notably very fast. Indeed we reach the lowest MSE at the first epoch with a batch size of 5. On the other hand, it appears that such value is not reached within the 3 epochs when the batch size is 50. This is consistent with the gradient descent formula: a lower batch size implies a larger step in the descending direction so a faster convergence towards optimality."
   ]
  },
  {
   "cell_type": "code",
   "execution_count": 284,
   "id": "ffdbdd48",
   "metadata": {},
   "outputs": [
    {
     "name": "stdout",
     "output_type": "stream",
     "text": [
      "With 1 epoch: \n",
      " \n",
      "epoch 1, loss 0.000048\n",
      "\n",
      "\n",
      "With 15 epochs: \n",
      " \n",
      "epoch 1, loss 0.000048\n",
      "epoch 2, loss 0.000048\n",
      "epoch 3, loss 0.000049\n",
      "epoch 4, loss 0.000048\n",
      "epoch 5, loss 0.000048\n",
      "epoch 6, loss 0.000048\n",
      "epoch 7, loss 0.000048\n",
      "epoch 8, loss 0.000048\n",
      "epoch 9, loss 0.000048\n",
      "epoch 10, loss 0.000048\n",
      "epoch 11, loss 0.000048\n",
      "epoch 12, loss 0.000048\n",
      "epoch 13, loss 0.000048\n",
      "epoch 14, loss 0.000048\n",
      "epoch 15, loss 0.000048\n",
      "epoch 16, loss 0.000049\n",
      "epoch 17, loss 0.000048\n",
      "epoch 18, loss 0.000048\n",
      "epoch 19, loss 0.000049\n",
      "epoch 20, loss 0.000048\n"
     ]
    }
   ],
   "source": [
    "# Lowering the number of epochs\n",
    "\n",
    "print(\"With 1 epoch: \\n \")\n",
    "training_model(squared_loss, 1, 0.03, 5, features1, labels1)\n",
    "\n",
    "print(\"\\n\")\n",
    "\n",
    "# Increasing the number of epochs\n",
    "\n",
    "print(\"With 15 epochs: \\n \")\n",
    "training_model(squared_loss, 20, 0.03, 5, features1, labels1)"
   ]
  },
  {
   "cell_type": "markdown",
   "id": "8010964d",
   "metadata": {},
   "source": [
    "Findings: One epoch corresponds to the entire dataset being passed forward and backward through the neural network only once. We can see that increasing the number of epochs does not change the performance of our model as the training MSE remains at 0.000048 throughout all epochs. This suggests that the dataset we are using is very uniform and does not exhibit diversity. Since the minibatch stochastic gradient descent algorithm considers randomly generated minibatches by the data_iter() function, it appears that the minibatches are all similar. Consequently, we see no significant changes from paritioning the data randomly several times (here 20 times as set by the number of epochs)."
   ]
  },
  {
   "cell_type": "code",
   "execution_count": 285,
   "id": "eb3353c3",
   "metadata": {},
   "outputs": [
    {
     "name": "stdout",
     "output_type": "stream",
     "text": [
      "With a learning rate of 0.01: \n",
      "\n",
      "epoch 1, loss 0.000048\n",
      "epoch 2, loss 0.000048\n",
      "epoch 3, loss 0.000048\n",
      "\n",
      "\n",
      "With a learning rate of 0.5: \n",
      "\n",
      "epoch 1, loss 0.000049\n",
      "epoch 2, loss 0.000069\n",
      "epoch 3, loss 0.000054\n"
     ]
    }
   ],
   "source": [
    "# Lowering the learning rate\n",
    "\n",
    "print(\"With a learning rate of 0.01: \\n\")\n",
    "training_model(squared_loss, 3, 0.01, 5, features1, labels1)\n",
    "\n",
    "print(\"\\n\")\n",
    "\n",
    "# Increasing the learning rate\n",
    "\n",
    "print(\"With a learning rate of 0.5: \\n\")\n",
    "training_model(squared_loss, 3, 0.5, 5, features1, labels1)\n"
   ]
  },
  {
   "cell_type": "markdown",
   "id": "99ab782a",
   "metadata": {},
   "source": [
    "Findings: The learning rate influences the convergence of our algorithm to the optimal (loss-minimising) solution. Although one would expect that a larger learning rate leads to faster convergence (as a larger step is taken towards the minimiser), we can see from the above example that a lower learning rate achieves a better solution (lower MSE). Indeed, setting a relatively high learning rate of 0.5 causes the model to converge too quickly to a suboptimal solution (and skipping the global minimum). On the other hand, a relatively low learning rate of 0.01 causes the process to get stuck at the global minimum (which is 0.000048 from the first epoch)."
   ]
  },
  {
   "cell_type": "code",
   "execution_count": 286,
   "id": "68d09402",
   "metadata": {},
   "outputs": [
    {
     "name": "stdout",
     "output_type": "stream",
     "text": [
      "With an l1-loss function: \n",
      "\n",
      "epoch 1, loss 0.008160\n",
      "epoch 2, loss 0.013817\n",
      "epoch 3, loss 0.010861\n"
     ]
    }
   ],
   "source": [
    "# Using the l1-loss function\n",
    "\n",
    "print(\"With an l1-loss function: \\n\")\n",
    "training_model(l1_loss, 3, 0.01, 5, features1, labels1)\n"
   ]
  },
  {
   "cell_type": "markdown",
   "id": "3dd0ce9f",
   "metadata": {},
   "source": [
    "Findings: Using the L1-loss instead of the squared L2 loss leads to a substantially higher error rate. As expected, the L2 loss converges much faster as L2 has a larger gradient when far away from zero. On the other hand, the L1 loss is almost stable resulting in an inefficient minimisation based on gradient descent."
   ]
  },
  {
   "cell_type": "markdown",
   "id": "e39e2c8a",
   "metadata": {},
   "source": [
    "We now inspect the influence of the the variance in the noise."
   ]
  },
  {
   "cell_type": "code",
   "execution_count": 287,
   "id": "4114bbb3",
   "metadata": {},
   "outputs": [
    {
     "name": "stdout",
     "output_type": "stream",
     "text": [
      "With a standard deviation of 0.5 in the error terms: \n",
      "\n",
      "epoch 1, loss 0.138312\n",
      "epoch 2, loss 0.138074\n",
      "epoch 3, loss 0.138110\n"
     ]
    }
   ],
   "source": [
    "# Increasing the standard deviation of the noise\n",
    "\n",
    "print(\"With a standard deviation of 0.5 in the error terms: \\n\")\n",
    "training_model(squared_loss, 3, 0.01, 5, features2, labels2)\n"
   ]
  },
  {
   "cell_type": "markdown",
   "id": "abd37578",
   "metadata": {},
   "source": [
    "Findings: Increasing the variance in the noise produces a much higher error rate on the training data. Indeed, adding more noise decreases the precision of our parameter estimation. We don't achieve a very accurate model as expected. "
   ]
  },
  {
   "cell_type": "markdown",
   "id": "17047e1f",
   "metadata": {},
   "source": [
    "# Week 4\n",
    "## Q1 Perceptron Algorithm\n",
    "1.  Given the following dataset, write your own perceptron algorithm function (page 55 of Lecture 2) to find the linear hyperplane that can perfectly separate the two classes of points.  To simplify, we set the bias as zero. \n",
    "\n",
    "1.  Then write another function to implement the stochastic gradient descending algorithm with `batch_size = 1`. To handle the binary classification, you may possibly use `net = nn.Sequential(nn.Linear(2, 1,bias=False), nn.Sigmoid())` (linear model with no bias and sigmoid activation),  `loss = nn.BCELoss(reduction='none')` (binary cross-entropy loss function) and `trainer = torch.optim.SGD(net.parameters(), lr=0.1)`. \n",
    "\n",
    "1. Next start the learning with the initial weights (-1.0, -0.75) and terminate when the number of epochs reaches 100. For both algorithms in parts (1) and (2), please report your final weights, initial and final classification accuracy rates, together with the corresponding plots of decision boundaries (`plot_decision_boundary(X, y, w)`) . Note\n",
    "that you may need to change the data from `numpy` to `tensor` or `tensor` to `numpy`for the use of some specific built-in functions. \n"
   ]
  },
  {
   "cell_type": "markdown",
   "id": "2dc78370",
   "metadata": {},
   "source": [
    "4. Finally change only one data point from (1,1) to (-0.25,1). Run both algorithms in parts (1) and (2). Show the results of weights, classification accuracies and plots of decision boundaries of the two methods. Comment on your findings from a bias variance tradeoff perspective. "
   ]
  },
  {
   "cell_type": "code",
   "execution_count": 13,
   "id": "68931917",
   "metadata": {},
   "outputs": [],
   "source": [
    "import matplotlib.pyplot as plt\n",
    "import numpy as np\n",
    "\n",
    "\n",
    "### Given the following dataset and plotting function\n",
    "# X --> Inputs / Predictors\n",
    "# y --> Outputs / Lables: 1 or -1\n",
    "# w --> weight parameters: ndarray with size(1,2)\n",
    "X1 = np.array([[1, 1], [1, 2],[2,1],[2,2],[-1,1],[-1,2],[-2,1],[-2,2],\n",
    "              [1, -1], [1, -2],[2,-1],[2,-2],[-1,-1],[-1,-2],[-2,-1],[-2,-2]])\n",
    "y = np.array([1,1,1,1,-1,-1,-1,-1,\n",
    "              1,1,1,1,-1,-1,-1,-1])\n",
    "w = np.array([[-1.0, -0.75]])\n",
    "\n",
    "def plot_decision_boundary(X, y, w):\n",
    "    # X --> Inputs\n",
    "    # y --> Outputs\n",
    "    # w --> weight parameters: ndarray with size(1,2)\n",
    "\n",
    "    # Plotting\n",
    "    plt.figure(figsize=(10, 8))\n",
    "    # if y == -1, red point\n",
    "    # if y == 1, blue point\n",
    "    plt.plot(X[:, 0][y == -1], X[:, 1][y == -1], \"r^\")\n",
    "    plt.plot(X[:, 0][y == 1], X[:, 1][y == 1], \"bs\")\n",
    "    plt.xlabel(\"feature 1\")\n",
    "    plt.ylabel(\"feature 2\")\n",
    "    if(w[0,1]==0):\n",
    "        plt.axvline(color=\"black\")\n",
    "    else:\n",
    "        plt.axline((0, 0), slope=-w[0,0] /w[0,1], color=\"black\")\n",
    "    plt.xlim(-3, 3)\n",
    "    plt.ylim(-3, 3)\n",
    "    "
   ]
  },
  {
   "cell_type": "code",
   "execution_count": 14,
   "id": "e16dd306",
   "metadata": {},
   "outputs": [],
   "source": [
    "# 1\n",
    "import numpy as np\n",
    "\n",
    "# definining the activation function\n",
    "\n",
    "def step_func(x):\n",
    "    return np.where(x>=0, 1, -1)\n",
    "\n",
    "# defining the perceptron update algorithm\n",
    "\n",
    "def fit(X, y, weight_init, num_epochs):\n",
    "    \n",
    "    n_sample = X.size\n",
    "    \n",
    "    count = 0\n",
    "        \n",
    "    for i in range(num_epochs):\n",
    "        \n",
    "        for idx, x_i in enumerate(X):\n",
    "            \n",
    "            linear_output = np.dot(x_i, weight_init)\n",
    "            y_predicted = step_func(linear_output)\n",
    "            if y_predicted == -1 and y[idx] == 1 :\n",
    "                weight_init += x_i\n",
    "            elif y_predicted ==1 and y[idx] == -1:\n",
    "                weight_init -= x_i\n",
    "            else:\n",
    "                count =+1\n",
    "                \n",
    "                \n",
    "    return str(\"final weights: {}\".format(weight_init)), str(\"final classification accuracy: {}\".format(count/n_sample)), plot_decision_boundary(X, y, weight_init.reshape(1,2)) \n",
    "        "
   ]
  },
  {
   "cell_type": "code",
   "execution_count": 15,
   "id": "f90567fd",
   "metadata": {},
   "outputs": [
    {
     "data": {
      "text/plain": [
       "('final weights: [ 3.   -0.75]',\n",
       " 'final classification accuracy: 0.03125',\n",
       " None)"
      ]
     },
     "execution_count": 15,
     "metadata": {},
     "output_type": "execute_result"
    },
    {
     "data": {
      "image/png": "[encoded data removed]",
      "text/plain": [
       "<Figure size 720x576 with 1 Axes>"
      ]
     },
     "metadata": {
      "needs_background": "light"
     },
     "output_type": "display_data"
    }
   ],
   "source": [
    "num_epochs = 100\n",
    "weight_init = np.array([-1.0, -0.75])\n",
    "\n",
    "fit(X1, y, weight_init, num_epochs)\n"
   ]
  },
  {
   "cell_type": "code",
   "execution_count": 17,
   "id": "3e329ee7",
   "metadata": {},
   "outputs": [
    {
     "name": "stdout",
     "output_type": "stream",
     "text": [
      "weights before backpropagation =  [Parameter containing:\n",
      "tensor([[-1.0000, -0.7500]], dtype=torch.float64, requires_grad=True)]\n",
      "\n",
      "\n"
     ]
    },
    {
     "data": {
      "text/plain": [
       "('weights after backpropagation = ',\n",
       " [Parameter containing:\n",
       "  tensor([[ 3.0823e+01, -1.2015e-05]], dtype=torch.float64, requires_grad=True)])"
      ]
     },
     "execution_count": 17,
     "metadata": {},
     "output_type": "execute_result"
    }
   ],
   "source": [
    "# 2 \n",
    "\n",
    "import torch.nn as nn\n",
    "\n",
    "# initialising the model\n",
    "\n",
    "def init_weights(m):\n",
    "        if type(m) == nn.Linear:\n",
    "            m.weight = torch.nn.Parameter(torch.from_numpy(w))\n",
    "            \n",
    "net = nn.Sequential(nn.Linear(2, 1,bias=False), nn.Sigmoid())\n",
    "    \n",
    "net.apply(init_weights)\n",
    "\n",
    "# defining the loss function\n",
    "    \n",
    "loss = nn.BCELoss(reduction='none')\n",
    "    \n",
    "# defining the optimisation algorithm\n",
    "    \n",
    "optimizer = torch.optim.SGD(net.parameters(), lr=0.1)\n",
    "    \n",
    "print('weights before backpropagation = ', list(net.parameters()))\n",
    "    \n",
    "print('\\n')\n",
    "\n",
    "def sgd_train(X, y):\n",
    "    \n",
    "    X = torch.from_numpy(X)\n",
    "    y = torch.from_numpy(y).reshape(16,1)\n",
    "    \n",
    "    X = X.double()\n",
    "    y = y.double()\n",
    "    \n",
    "    # since the required batch size is 1 (ie. the whole dataset is used at every epoch), we do not need to refer to the data_iter() function\n",
    "    for epoch in range(100):\n",
    "        output = net(X)\n",
    "        l = loss(output , y)\n",
    "        optimizer.zero_grad()\n",
    "        l.sum().backward()\n",
    "        optimizer.step()\n",
    "        \n",
    "    X = X.numpy().reshape(16,2)\n",
    "    y = y.numpy().reshape(16)\n",
    "    \n",
    "    return 'weights after backpropagation = ', list(net.parameters())\n",
    "\n",
    "sgd_train(X1, y)\n",
    " \n"
   ]
  },
  {
   "cell_type": "code",
   "execution_count": 1048,
   "id": "65b0f658",
   "metadata": {},
   "outputs": [
    {
     "data": {
      "image/png": "[encoded data removed]",
      "text/plain": [
       "<Figure size 720x576 with 1 Axes>"
      ]
     },
     "metadata": {
      "needs_background": "light"
     },
     "output_type": "display_data"
    }
   ],
   "source": [
    "final_weights1 = np.array([3.0823e+01,  -1.2015e-05])\n",
    "plot_decision_boundary(X1, y, final_weights1.reshape(1,2))"
   ]
  },
  {
   "cell_type": "code",
   "execution_count": 18,
   "id": "7cc7a8c3",
   "metadata": {},
   "outputs": [],
   "source": [
    "### Given the following dataset and plotting function\n",
    "\n",
    "X2 = np.array([[-0.25, 1], [1, 2],[2,1],[2,2],[-1,1],[-1,2],[-2,1],[-2,2],\n",
    "              [1, -1], [1, -2],[2,-1],[2,-2],[-1,-1],[-1,-2],[-2,-1],[-2,-2]])\n",
    "y = np.array([1,1,1,1,-1,-1,-1,-1,\n",
    "              1,1,1,1,-1,-1,-1,-1])\n",
    "w = np.array([[-1.0, -0.75]])\n"
   ]
  },
  {
   "cell_type": "code",
   "execution_count": 19,
   "id": "e842f140",
   "metadata": {
    "scrolled": true
   },
   "outputs": [
    {
     "data": {
      "text/plain": [
       "('final weights: [3.   1.25]', 'final classification accuracy: 0.03125', None)"
      ]
     },
     "execution_count": 19,
     "metadata": {},
     "output_type": "execute_result"
    },
    {
     "data": {
      "image/png": "[encoded data removed]",
      "text/plain": [
       "<Figure size 720x576 with 1 Axes>"
      ]
     },
     "metadata": {
      "needs_background": "light"
     },
     "output_type": "display_data"
    }
   ],
   "source": [
    "#4\n",
    "\n",
    "# Running the perceptron algorithm on the new dataset\n",
    "\n",
    "fit(X2, y, weight_init, num_epochs)\n"
   ]
  },
  {
   "cell_type": "markdown",
   "id": "7dea1244",
   "metadata": {},
   "source": [
    "We can see that the decision boundary has significantly changed after changing one point in our dataset. This implies that our model based on the perceptron algorithm has very high variance. As we can see, the  linear classifier is highly sensitive to small changes in the dataset. Since the point has affected the slope of our decision boundary, it can be see as a high leverage point. The new point can be seen to be closer to the decision boundary line.\n",
    "\n",
    "With regards to the classification accuracy, we can see that it remains the same for the two datasets."
   ]
  },
  {
   "cell_type": "code",
   "execution_count": 20,
   "id": "7ce4607f",
   "metadata": {},
   "outputs": [
    {
     "data": {
      "text/plain": [
       "('weights after backpropagation = ',\n",
       " [Parameter containing:\n",
       "  tensor([[32.8140,  2.1560]], dtype=torch.float64, requires_grad=True)])"
      ]
     },
     "execution_count": 20,
     "metadata": {},
     "output_type": "execute_result"
    }
   ],
   "source": [
    "# Running the sgd algorithm on the new dataset\n",
    "\n",
    "sgd_train(X2, y)\n"
   ]
  },
  {
   "cell_type": "code",
   "execution_count": 21,
   "id": "a2c18cf0",
   "metadata": {},
   "outputs": [
    {
     "data": {
      "image/png": "[encoded data removed]",
      "text/plain": [
       "<Figure size 720x576 with 1 Axes>"
      ]
     },
     "metadata": {
      "needs_background": "light"
     },
     "output_type": "display_data"
    }
   ],
   "source": [
    "final_weights2 = np.array([32.8140,  2.1560])\n",
    "plot_decision_boundary(X2, y, final_weights2.reshape(1,2)) "
   ]
  },
  {
   "cell_type": "markdown",
   "id": "9142b7f5",
   "metadata": {},
   "source": [
    "We can see that the decision boundary has changed very little after changing one point in our dataset (we can see it has become a bit flatter). This implies that our model based on stochastic gradient descending has low variance and is robust to small changes in the data. However, we can see that the new point (-0.25, 1) replacing (1,1) is now misclassified, leading to a lower classification accuracy."
   ]
  },
  {
   "cell_type": "code",
   "execution_count": null,
   "id": "f525501d",
   "metadata": {},
   "outputs": [],
   "source": []
  }
 ],
 "metadata": {
  "kernelspec": {
   "display_name": "Python 3 (ipykernel)",
   "language": "python",
   "name": "python3"
  },
  "language_info": {
   "codemirror_mode": {
    "name": "ipython",
    "version": 3
   },
   "file_extension": ".py",
   "mimetype": "text/x-python",
   "name": "python",
   "nbconvert_exporter": "python",
   "pygments_lexer": "ipython3",
   "version": "3.8.11"
  }
 },
 "nbformat": 4,
 "nbformat_minor": 5
}
